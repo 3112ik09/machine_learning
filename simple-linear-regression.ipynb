{
 "cells": [
  {
   "cell_type": "markdown",
   "metadata": {
    "papermill": {
     "duration": 0.02116,
     "end_time": "2020-10-21T10:24:24.663966",
     "exception": false,
     "start_time": "2020-10-21T10:24:24.642806",
     "status": "completed"
    },
    "tags": []
   },
   "source": [
    "# linear regression between salinity and temprature\n"
   ]
  },
  {
   "cell_type": "code",
   "execution_count": 1,
   "metadata": {
    "execution": {
     "iopub.execute_input": "2020-10-21T10:24:24.710195Z",
     "iopub.status.busy": "2020-10-21T10:24:24.709387Z",
     "iopub.status.idle": "2020-10-21T10:24:25.938468Z",
     "shell.execute_reply": "2020-10-21T10:24:25.937606Z"
    },
    "papermill": {
     "duration": 1.25451,
     "end_time": "2020-10-21T10:24:25.938620",
     "exception": false,
     "start_time": "2020-10-21T10:24:24.684110",
     "status": "completed"
    },
    "tags": []
   },
   "outputs": [],
   "source": [
    "import numpy as np\n",
    "import pandas as pd\n",
    "import matplotlib.pyplot as plt\n",
    "import seaborn as sns\n"
   ]
  },
  {
   "cell_type": "code",
   "execution_count": 2,
   "metadata": {
    "_cell_guid": "79c7e3d0-c299-4dcb-8224-4455121ee9b0",
    "_uuid": "d629ff2d2480ee46fbb7e2d37f6b5fab8052498a",
    "execution": {
     "iopub.execute_input": "2020-10-21T10:24:25.991838Z",
     "iopub.status.busy": "2020-10-21T10:24:25.990841Z",
     "iopub.status.idle": "2020-10-21T10:24:34.792971Z",
     "shell.execute_reply": "2020-10-21T10:24:34.792136Z"
    },
    "papermill": {
     "duration": 8.831777,
     "end_time": "2020-10-21T10:24:34.793106",
     "exception": false,
     "start_time": "2020-10-21T10:24:25.961329",
     "status": "completed"
    },
    "tags": []
   },
   "outputs": [
    {
     "name": "stderr",
     "output_type": "stream",
     "text": [
      "/opt/conda/lib/python3.7/site-packages/IPython/core/interactiveshell.py:3063: DtypeWarning: Columns (47,73) have mixed types.Specify dtype option on import or set low_memory=False.\n",
      "  interactivity=interactivity, compiler=compiler, result=result)\n"
     ]
    }
   ],
   "source": [
    "#read file from kaggle \n",
    "df=pd.read_csv(\"../input/calcofi/bottle.csv\")\n"
   ]
  },
  {
   "cell_type": "code",
   "execution_count": 3,
   "metadata": {
    "execution": {
     "iopub.execute_input": "2020-10-21T10:24:34.843564Z",
     "iopub.status.busy": "2020-10-21T10:24:34.842707Z",
     "iopub.status.idle": "2020-10-21T10:24:34.847588Z",
     "shell.execute_reply": "2020-10-21T10:24:34.846851Z"
    },
    "papermill": {
     "duration": 0.03336,
     "end_time": "2020-10-21T10:24:34.847736",
     "exception": false,
     "start_time": "2020-10-21T10:24:34.814376",
     "status": "completed"
    },
    "tags": []
   },
   "outputs": [
    {
     "data": {
      "text/plain": [
       "(864863, 74)"
      ]
     },
     "execution_count": 3,
     "metadata": {},
     "output_type": "execute_result"
    }
   ],
   "source": [
    "df.shape"
   ]
  },
  {
   "cell_type": "code",
   "execution_count": 4,
   "metadata": {
    "execution": {
     "iopub.execute_input": "2020-10-21T10:24:34.919509Z",
     "iopub.status.busy": "2020-10-21T10:24:34.918501Z",
     "iopub.status.idle": "2020-10-21T10:24:34.942524Z",
     "shell.execute_reply": "2020-10-21T10:24:34.941781Z"
    },
    "papermill": {
     "duration": 0.07362,
     "end_time": "2020-10-21T10:24:34.942726",
     "exception": false,
     "start_time": "2020-10-21T10:24:34.869106",
     "status": "completed"
    },
    "tags": []
   },
   "outputs": [
    {
     "data": {
      "text/html": [
       "<div>\n",
       "<style scoped>\n",
       "    .dataframe tbody tr th:only-of-type {\n",
       "        vertical-align: middle;\n",
       "    }\n",
       "\n",
       "    .dataframe tbody tr th {\n",
       "        vertical-align: top;\n",
       "    }\n",
       "\n",
       "    .dataframe thead th {\n",
       "        text-align: right;\n",
       "    }\n",
       "</style>\n",
       "<table border=\"1\" class=\"dataframe\">\n",
       "  <thead>\n",
       "    <tr style=\"text-align: right;\">\n",
       "      <th></th>\n",
       "      <th>Cst_Cnt</th>\n",
       "      <th>Btl_Cnt</th>\n",
       "      <th>Sta_ID</th>\n",
       "      <th>Depth_ID</th>\n",
       "      <th>Depthm</th>\n",
       "      <th>T_degC</th>\n",
       "      <th>Salnty</th>\n",
       "      <th>O2ml_L</th>\n",
       "      <th>STheta</th>\n",
       "      <th>O2Sat</th>\n",
       "      <th>...</th>\n",
       "      <th>R_PHAEO</th>\n",
       "      <th>R_PRES</th>\n",
       "      <th>R_SAMP</th>\n",
       "      <th>DIC1</th>\n",
       "      <th>DIC2</th>\n",
       "      <th>TA1</th>\n",
       "      <th>TA2</th>\n",
       "      <th>pH2</th>\n",
       "      <th>pH1</th>\n",
       "      <th>DIC Quality Comment</th>\n",
       "    </tr>\n",
       "  </thead>\n",
       "  <tbody>\n",
       "    <tr>\n",
       "      <th>0</th>\n",
       "      <td>1</td>\n",
       "      <td>1</td>\n",
       "      <td>054.0 056.0</td>\n",
       "      <td>19-4903CR-HY-060-0930-05400560-0000A-3</td>\n",
       "      <td>0</td>\n",
       "      <td>10.50</td>\n",
       "      <td>33.440</td>\n",
       "      <td>NaN</td>\n",
       "      <td>25.649</td>\n",
       "      <td>NaN</td>\n",
       "      <td>...</td>\n",
       "      <td>NaN</td>\n",
       "      <td>0</td>\n",
       "      <td>NaN</td>\n",
       "      <td>NaN</td>\n",
       "      <td>NaN</td>\n",
       "      <td>NaN</td>\n",
       "      <td>NaN</td>\n",
       "      <td>NaN</td>\n",
       "      <td>NaN</td>\n",
       "      <td>NaN</td>\n",
       "    </tr>\n",
       "    <tr>\n",
       "      <th>1</th>\n",
       "      <td>1</td>\n",
       "      <td>2</td>\n",
       "      <td>054.0 056.0</td>\n",
       "      <td>19-4903CR-HY-060-0930-05400560-0008A-3</td>\n",
       "      <td>8</td>\n",
       "      <td>10.46</td>\n",
       "      <td>33.440</td>\n",
       "      <td>NaN</td>\n",
       "      <td>25.656</td>\n",
       "      <td>NaN</td>\n",
       "      <td>...</td>\n",
       "      <td>NaN</td>\n",
       "      <td>8</td>\n",
       "      <td>NaN</td>\n",
       "      <td>NaN</td>\n",
       "      <td>NaN</td>\n",
       "      <td>NaN</td>\n",
       "      <td>NaN</td>\n",
       "      <td>NaN</td>\n",
       "      <td>NaN</td>\n",
       "      <td>NaN</td>\n",
       "    </tr>\n",
       "    <tr>\n",
       "      <th>2</th>\n",
       "      <td>1</td>\n",
       "      <td>3</td>\n",
       "      <td>054.0 056.0</td>\n",
       "      <td>19-4903CR-HY-060-0930-05400560-0010A-7</td>\n",
       "      <td>10</td>\n",
       "      <td>10.46</td>\n",
       "      <td>33.437</td>\n",
       "      <td>NaN</td>\n",
       "      <td>25.654</td>\n",
       "      <td>NaN</td>\n",
       "      <td>...</td>\n",
       "      <td>NaN</td>\n",
       "      <td>10</td>\n",
       "      <td>NaN</td>\n",
       "      <td>NaN</td>\n",
       "      <td>NaN</td>\n",
       "      <td>NaN</td>\n",
       "      <td>NaN</td>\n",
       "      <td>NaN</td>\n",
       "      <td>NaN</td>\n",
       "      <td>NaN</td>\n",
       "    </tr>\n",
       "    <tr>\n",
       "      <th>3</th>\n",
       "      <td>1</td>\n",
       "      <td>4</td>\n",
       "      <td>054.0 056.0</td>\n",
       "      <td>19-4903CR-HY-060-0930-05400560-0019A-3</td>\n",
       "      <td>19</td>\n",
       "      <td>10.45</td>\n",
       "      <td>33.420</td>\n",
       "      <td>NaN</td>\n",
       "      <td>25.643</td>\n",
       "      <td>NaN</td>\n",
       "      <td>...</td>\n",
       "      <td>NaN</td>\n",
       "      <td>19</td>\n",
       "      <td>NaN</td>\n",
       "      <td>NaN</td>\n",
       "      <td>NaN</td>\n",
       "      <td>NaN</td>\n",
       "      <td>NaN</td>\n",
       "      <td>NaN</td>\n",
       "      <td>NaN</td>\n",
       "      <td>NaN</td>\n",
       "    </tr>\n",
       "    <tr>\n",
       "      <th>4</th>\n",
       "      <td>1</td>\n",
       "      <td>5</td>\n",
       "      <td>054.0 056.0</td>\n",
       "      <td>19-4903CR-HY-060-0930-05400560-0020A-7</td>\n",
       "      <td>20</td>\n",
       "      <td>10.45</td>\n",
       "      <td>33.421</td>\n",
       "      <td>NaN</td>\n",
       "      <td>25.643</td>\n",
       "      <td>NaN</td>\n",
       "      <td>...</td>\n",
       "      <td>NaN</td>\n",
       "      <td>20</td>\n",
       "      <td>NaN</td>\n",
       "      <td>NaN</td>\n",
       "      <td>NaN</td>\n",
       "      <td>NaN</td>\n",
       "      <td>NaN</td>\n",
       "      <td>NaN</td>\n",
       "      <td>NaN</td>\n",
       "      <td>NaN</td>\n",
       "    </tr>\n",
       "  </tbody>\n",
       "</table>\n",
       "<p>5 rows × 74 columns</p>\n",
       "</div>"
      ],
      "text/plain": [
       "   Cst_Cnt  Btl_Cnt       Sta_ID                                Depth_ID  \\\n",
       "0        1        1  054.0 056.0  19-4903CR-HY-060-0930-05400560-0000A-3   \n",
       "1        1        2  054.0 056.0  19-4903CR-HY-060-0930-05400560-0008A-3   \n",
       "2        1        3  054.0 056.0  19-4903CR-HY-060-0930-05400560-0010A-7   \n",
       "3        1        4  054.0 056.0  19-4903CR-HY-060-0930-05400560-0019A-3   \n",
       "4        1        5  054.0 056.0  19-4903CR-HY-060-0930-05400560-0020A-7   \n",
       "\n",
       "   Depthm  T_degC  Salnty  O2ml_L  STheta  O2Sat  ...  R_PHAEO  R_PRES  \\\n",
       "0       0   10.50  33.440     NaN  25.649    NaN  ...      NaN       0   \n",
       "1       8   10.46  33.440     NaN  25.656    NaN  ...      NaN       8   \n",
       "2      10   10.46  33.437     NaN  25.654    NaN  ...      NaN      10   \n",
       "3      19   10.45  33.420     NaN  25.643    NaN  ...      NaN      19   \n",
       "4      20   10.45  33.421     NaN  25.643    NaN  ...      NaN      20   \n",
       "\n",
       "   R_SAMP  DIC1  DIC2  TA1  TA2  pH2  pH1  DIC Quality Comment  \n",
       "0     NaN   NaN   NaN  NaN  NaN  NaN  NaN                  NaN  \n",
       "1     NaN   NaN   NaN  NaN  NaN  NaN  NaN                  NaN  \n",
       "2     NaN   NaN   NaN  NaN  NaN  NaN  NaN                  NaN  \n",
       "3     NaN   NaN   NaN  NaN  NaN  NaN  NaN                  NaN  \n",
       "4     NaN   NaN   NaN  NaN  NaN  NaN  NaN                  NaN  \n",
       "\n",
       "[5 rows x 74 columns]"
      ]
     },
     "execution_count": 4,
     "metadata": {},
     "output_type": "execute_result"
    }
   ],
   "source": [
    "df.head()"
   ]
  },
  {
   "cell_type": "code",
   "execution_count": 5,
   "metadata": {
    "execution": {
     "iopub.execute_input": "2020-10-21T10:24:35.145606Z",
     "iopub.status.busy": "2020-10-21T10:24:35.144626Z",
     "iopub.status.idle": "2020-10-21T10:24:36.665175Z",
     "shell.execute_reply": "2020-10-21T10:24:36.664435Z"
    },
    "papermill": {
     "duration": 1.699678,
     "end_time": "2020-10-21T10:24:36.665309",
     "exception": false,
     "start_time": "2020-10-21T10:24:34.965631",
     "status": "completed"
    },
    "tags": []
   },
   "outputs": [
    {
     "data": {
      "text/html": [
       "<div>\n",
       "<style scoped>\n",
       "    .dataframe tbody tr th:only-of-type {\n",
       "        vertical-align: middle;\n",
       "    }\n",
       "\n",
       "    .dataframe tbody tr th {\n",
       "        vertical-align: top;\n",
       "    }\n",
       "\n",
       "    .dataframe thead th {\n",
       "        text-align: right;\n",
       "    }\n",
       "</style>\n",
       "<table border=\"1\" class=\"dataframe\">\n",
       "  <thead>\n",
       "    <tr style=\"text-align: right;\">\n",
       "      <th></th>\n",
       "      <th>Cst_Cnt</th>\n",
       "      <th>Btl_Cnt</th>\n",
       "      <th>Depthm</th>\n",
       "      <th>T_degC</th>\n",
       "      <th>Salnty</th>\n",
       "      <th>O2ml_L</th>\n",
       "      <th>STheta</th>\n",
       "      <th>O2Sat</th>\n",
       "      <th>Oxy_µmol/Kg</th>\n",
       "      <th>BtlNum</th>\n",
       "      <th>...</th>\n",
       "      <th>R_CHLA</th>\n",
       "      <th>R_PHAEO</th>\n",
       "      <th>R_PRES</th>\n",
       "      <th>R_SAMP</th>\n",
       "      <th>DIC1</th>\n",
       "      <th>DIC2</th>\n",
       "      <th>TA1</th>\n",
       "      <th>TA2</th>\n",
       "      <th>pH2</th>\n",
       "      <th>pH1</th>\n",
       "    </tr>\n",
       "  </thead>\n",
       "  <tbody>\n",
       "    <tr>\n",
       "      <th>count</th>\n",
       "      <td>864863.000000</td>\n",
       "      <td>864863.000000</td>\n",
       "      <td>864863.000000</td>\n",
       "      <td>853900.000000</td>\n",
       "      <td>817509.000000</td>\n",
       "      <td>696201.000000</td>\n",
       "      <td>812174.000000</td>\n",
       "      <td>661274.000000</td>\n",
       "      <td>661268.000000</td>\n",
       "      <td>118667.000000</td>\n",
       "      <td>...</td>\n",
       "      <td>225276.000000</td>\n",
       "      <td>225275.000000</td>\n",
       "      <td>864863.000000</td>\n",
       "      <td>122006.000000</td>\n",
       "      <td>1999.000000</td>\n",
       "      <td>224.000000</td>\n",
       "      <td>2084.000000</td>\n",
       "      <td>234.000000</td>\n",
       "      <td>10.000000</td>\n",
       "      <td>84.000000</td>\n",
       "    </tr>\n",
       "    <tr>\n",
       "      <th>mean</th>\n",
       "      <td>17138.790958</td>\n",
       "      <td>432432.000000</td>\n",
       "      <td>226.831951</td>\n",
       "      <td>10.799677</td>\n",
       "      <td>33.840350</td>\n",
       "      <td>3.392468</td>\n",
       "      <td>25.819394</td>\n",
       "      <td>57.103779</td>\n",
       "      <td>148.808694</td>\n",
       "      <td>10.497426</td>\n",
       "      <td>...</td>\n",
       "      <td>0.450225</td>\n",
       "      <td>0.198599</td>\n",
       "      <td>228.395694</td>\n",
       "      <td>162.071521</td>\n",
       "      <td>2153.239714</td>\n",
       "      <td>2168.148330</td>\n",
       "      <td>2256.055845</td>\n",
       "      <td>2278.858803</td>\n",
       "      <td>7.948570</td>\n",
       "      <td>7.910983</td>\n",
       "    </tr>\n",
       "    <tr>\n",
       "      <th>std</th>\n",
       "      <td>10240.949817</td>\n",
       "      <td>249664.587267</td>\n",
       "      <td>316.050259</td>\n",
       "      <td>4.243825</td>\n",
       "      <td>0.461843</td>\n",
       "      <td>2.073256</td>\n",
       "      <td>1.167787</td>\n",
       "      <td>37.094137</td>\n",
       "      <td>90.187533</td>\n",
       "      <td>6.189688</td>\n",
       "      <td>...</td>\n",
       "      <td>1.208566</td>\n",
       "      <td>0.376539</td>\n",
       "      <td>319.456731</td>\n",
       "      <td>85.722796</td>\n",
       "      <td>112.995202</td>\n",
       "      <td>154.852332</td>\n",
       "      <td>34.844435</td>\n",
       "      <td>58.496495</td>\n",
       "      <td>0.021216</td>\n",
       "      <td>0.077666</td>\n",
       "    </tr>\n",
       "    <tr>\n",
       "      <th>min</th>\n",
       "      <td>1.000000</td>\n",
       "      <td>1.000000</td>\n",
       "      <td>0.000000</td>\n",
       "      <td>1.440000</td>\n",
       "      <td>28.431000</td>\n",
       "      <td>-0.010000</td>\n",
       "      <td>20.934000</td>\n",
       "      <td>-0.100000</td>\n",
       "      <td>-0.434900</td>\n",
       "      <td>0.000000</td>\n",
       "      <td>...</td>\n",
       "      <td>-0.010000</td>\n",
       "      <td>-3.890000</td>\n",
       "      <td>0.000000</td>\n",
       "      <td>0.000000</td>\n",
       "      <td>1948.850000</td>\n",
       "      <td>1969.440000</td>\n",
       "      <td>2181.570000</td>\n",
       "      <td>2198.150000</td>\n",
       "      <td>7.923100</td>\n",
       "      <td>7.618300</td>\n",
       "    </tr>\n",
       "    <tr>\n",
       "      <th>25%</th>\n",
       "      <td>8269.000000</td>\n",
       "      <td>216216.500000</td>\n",
       "      <td>46.000000</td>\n",
       "      <td>7.680000</td>\n",
       "      <td>33.488000</td>\n",
       "      <td>1.360000</td>\n",
       "      <td>24.965000</td>\n",
       "      <td>21.100000</td>\n",
       "      <td>60.915470</td>\n",
       "      <td>5.000000</td>\n",
       "      <td>...</td>\n",
       "      <td>0.050000</td>\n",
       "      <td>0.050000</td>\n",
       "      <td>46.000000</td>\n",
       "      <td>200.000000</td>\n",
       "      <td>2028.330000</td>\n",
       "      <td>2008.977500</td>\n",
       "      <td>2230.322500</td>\n",
       "      <td>2229.062500</td>\n",
       "      <td>7.931475</td>\n",
       "      <td>7.898675</td>\n",
       "    </tr>\n",
       "    <tr>\n",
       "      <th>50%</th>\n",
       "      <td>16848.000000</td>\n",
       "      <td>432432.000000</td>\n",
       "      <td>125.000000</td>\n",
       "      <td>10.060000</td>\n",
       "      <td>33.863000</td>\n",
       "      <td>3.440000</td>\n",
       "      <td>25.996000</td>\n",
       "      <td>54.400000</td>\n",
       "      <td>151.064150</td>\n",
       "      <td>10.000000</td>\n",
       "      <td>...</td>\n",
       "      <td>0.160000</td>\n",
       "      <td>0.110000</td>\n",
       "      <td>126.000000</td>\n",
       "      <td>206.000000</td>\n",
       "      <td>2170.640000</td>\n",
       "      <td>2265.885000</td>\n",
       "      <td>2244.325000</td>\n",
       "      <td>2247.505000</td>\n",
       "      <td>7.946650</td>\n",
       "      <td>7.928850</td>\n",
       "    </tr>\n",
       "    <tr>\n",
       "      <th>75%</th>\n",
       "      <td>26557.000000</td>\n",
       "      <td>648647.500000</td>\n",
       "      <td>300.000000</td>\n",
       "      <td>13.880000</td>\n",
       "      <td>34.196900</td>\n",
       "      <td>5.500000</td>\n",
       "      <td>26.646000</td>\n",
       "      <td>97.600000</td>\n",
       "      <td>240.379600</td>\n",
       "      <td>16.000000</td>\n",
       "      <td>...</td>\n",
       "      <td>0.390000</td>\n",
       "      <td>0.230000</td>\n",
       "      <td>302.000000</td>\n",
       "      <td>214.000000</td>\n",
       "      <td>2253.810000</td>\n",
       "      <td>2315.525000</td>\n",
       "      <td>2278.505000</td>\n",
       "      <td>2316.452500</td>\n",
       "      <td>7.963300</td>\n",
       "      <td>7.955100</td>\n",
       "    </tr>\n",
       "    <tr>\n",
       "      <th>max</th>\n",
       "      <td>34404.000000</td>\n",
       "      <td>864863.000000</td>\n",
       "      <td>5351.000000</td>\n",
       "      <td>31.140000</td>\n",
       "      <td>37.034000</td>\n",
       "      <td>11.130000</td>\n",
       "      <td>250.784000</td>\n",
       "      <td>214.100000</td>\n",
       "      <td>485.701800</td>\n",
       "      <td>25.000000</td>\n",
       "      <td>...</td>\n",
       "      <td>66.110000</td>\n",
       "      <td>65.300000</td>\n",
       "      <td>5458.000000</td>\n",
       "      <td>424.000000</td>\n",
       "      <td>2367.800000</td>\n",
       "      <td>2364.420000</td>\n",
       "      <td>2434.900000</td>\n",
       "      <td>2437.000000</td>\n",
       "      <td>7.988300</td>\n",
       "      <td>8.047700</td>\n",
       "    </tr>\n",
       "  </tbody>\n",
       "</table>\n",
       "<p>8 rows × 70 columns</p>\n",
       "</div>"
      ],
      "text/plain": [
       "             Cst_Cnt        Btl_Cnt         Depthm         T_degC  \\\n",
       "count  864863.000000  864863.000000  864863.000000  853900.000000   \n",
       "mean    17138.790958  432432.000000     226.831951      10.799677   \n",
       "std     10240.949817  249664.587267     316.050259       4.243825   \n",
       "min         1.000000       1.000000       0.000000       1.440000   \n",
       "25%      8269.000000  216216.500000      46.000000       7.680000   \n",
       "50%     16848.000000  432432.000000     125.000000      10.060000   \n",
       "75%     26557.000000  648647.500000     300.000000      13.880000   \n",
       "max     34404.000000  864863.000000    5351.000000      31.140000   \n",
       "\n",
       "              Salnty         O2ml_L         STheta          O2Sat  \\\n",
       "count  817509.000000  696201.000000  812174.000000  661274.000000   \n",
       "mean       33.840350       3.392468      25.819394      57.103779   \n",
       "std         0.461843       2.073256       1.167787      37.094137   \n",
       "min        28.431000      -0.010000      20.934000      -0.100000   \n",
       "25%        33.488000       1.360000      24.965000      21.100000   \n",
       "50%        33.863000       3.440000      25.996000      54.400000   \n",
       "75%        34.196900       5.500000      26.646000      97.600000   \n",
       "max        37.034000      11.130000     250.784000     214.100000   \n",
       "\n",
       "         Oxy_µmol/Kg         BtlNum  ...         R_CHLA        R_PHAEO  \\\n",
       "count  661268.000000  118667.000000  ...  225276.000000  225275.000000   \n",
       "mean      148.808694      10.497426  ...       0.450225       0.198599   \n",
       "std        90.187533       6.189688  ...       1.208566       0.376539   \n",
       "min        -0.434900       0.000000  ...      -0.010000      -3.890000   \n",
       "25%        60.915470       5.000000  ...       0.050000       0.050000   \n",
       "50%       151.064150      10.000000  ...       0.160000       0.110000   \n",
       "75%       240.379600      16.000000  ...       0.390000       0.230000   \n",
       "max       485.701800      25.000000  ...      66.110000      65.300000   \n",
       "\n",
       "              R_PRES         R_SAMP         DIC1         DIC2          TA1  \\\n",
       "count  864863.000000  122006.000000  1999.000000   224.000000  2084.000000   \n",
       "mean      228.395694     162.071521  2153.239714  2168.148330  2256.055845   \n",
       "std       319.456731      85.722796   112.995202   154.852332    34.844435   \n",
       "min         0.000000       0.000000  1948.850000  1969.440000  2181.570000   \n",
       "25%        46.000000     200.000000  2028.330000  2008.977500  2230.322500   \n",
       "50%       126.000000     206.000000  2170.640000  2265.885000  2244.325000   \n",
       "75%       302.000000     214.000000  2253.810000  2315.525000  2278.505000   \n",
       "max      5458.000000     424.000000  2367.800000  2364.420000  2434.900000   \n",
       "\n",
       "               TA2        pH2        pH1  \n",
       "count   234.000000  10.000000  84.000000  \n",
       "mean   2278.858803   7.948570   7.910983  \n",
       "std      58.496495   0.021216   0.077666  \n",
       "min    2198.150000   7.923100   7.618300  \n",
       "25%    2229.062500   7.931475   7.898675  \n",
       "50%    2247.505000   7.946650   7.928850  \n",
       "75%    2316.452500   7.963300   7.955100  \n",
       "max    2437.000000   7.988300   8.047700  \n",
       "\n",
       "[8 rows x 70 columns]"
      ]
     },
     "execution_count": 5,
     "metadata": {},
     "output_type": "execute_result"
    }
   ],
   "source": [
    "df.describe()"
   ]
  },
  {
   "cell_type": "code",
   "execution_count": 6,
   "metadata": {
    "execution": {
     "iopub.execute_input": "2020-10-21T10:24:36.722514Z",
     "iopub.status.busy": "2020-10-21T10:24:36.721467Z",
     "iopub.status.idle": "2020-10-21T10:24:36.724809Z",
     "shell.execute_reply": "2020-10-21T10:24:36.724046Z"
    },
    "papermill": {
     "duration": 0.036058,
     "end_time": "2020-10-21T10:24:36.724959",
     "exception": false,
     "start_time": "2020-10-21T10:24:36.688901",
     "status": "completed"
    },
    "tags": []
   },
   "outputs": [],
   "source": [
    "df=df[[\"Salnty\",\"T_degC\"]]"
   ]
  },
  {
   "cell_type": "code",
   "execution_count": 7,
   "metadata": {
    "execution": {
     "iopub.execute_input": "2020-10-21T10:24:36.783458Z",
     "iopub.status.busy": "2020-10-21T10:24:36.782528Z",
     "iopub.status.idle": "2020-10-21T10:24:36.787332Z",
     "shell.execute_reply": "2020-10-21T10:24:36.786608Z"
    },
    "papermill": {
     "duration": 0.039073,
     "end_time": "2020-10-21T10:24:36.787463",
     "exception": false,
     "start_time": "2020-10-21T10:24:36.748390",
     "status": "completed"
    },
    "tags": []
   },
   "outputs": [
    {
     "data": {
      "text/html": [
       "<div>\n",
       "<style scoped>\n",
       "    .dataframe tbody tr th:only-of-type {\n",
       "        vertical-align: middle;\n",
       "    }\n",
       "\n",
       "    .dataframe tbody tr th {\n",
       "        vertical-align: top;\n",
       "    }\n",
       "\n",
       "    .dataframe thead th {\n",
       "        text-align: right;\n",
       "    }\n",
       "</style>\n",
       "<table border=\"1\" class=\"dataframe\">\n",
       "  <thead>\n",
       "    <tr style=\"text-align: right;\">\n",
       "      <th></th>\n",
       "      <th>Salnty</th>\n",
       "      <th>T_degC</th>\n",
       "    </tr>\n",
       "  </thead>\n",
       "  <tbody>\n",
       "    <tr>\n",
       "      <th>0</th>\n",
       "      <td>33.440</td>\n",
       "      <td>10.50</td>\n",
       "    </tr>\n",
       "    <tr>\n",
       "      <th>1</th>\n",
       "      <td>33.440</td>\n",
       "      <td>10.46</td>\n",
       "    </tr>\n",
       "    <tr>\n",
       "      <th>2</th>\n",
       "      <td>33.437</td>\n",
       "      <td>10.46</td>\n",
       "    </tr>\n",
       "    <tr>\n",
       "      <th>3</th>\n",
       "      <td>33.420</td>\n",
       "      <td>10.45</td>\n",
       "    </tr>\n",
       "    <tr>\n",
       "      <th>4</th>\n",
       "      <td>33.421</td>\n",
       "      <td>10.45</td>\n",
       "    </tr>\n",
       "  </tbody>\n",
       "</table>\n",
       "</div>"
      ],
      "text/plain": [
       "   Salnty  T_degC\n",
       "0  33.440   10.50\n",
       "1  33.440   10.46\n",
       "2  33.437   10.46\n",
       "3  33.420   10.45\n",
       "4  33.421   10.45"
      ]
     },
     "execution_count": 7,
     "metadata": {},
     "output_type": "execute_result"
    }
   ],
   "source": [
    "df.head()"
   ]
  },
  {
   "cell_type": "markdown",
   "metadata": {
    "papermill": {
     "duration": 0.023975,
     "end_time": "2020-10-21T10:24:36.836421",
     "exception": false,
     "start_time": "2020-10-21T10:24:36.812446",
     "status": "completed"
    },
    "tags": []
   },
   "source": [
    "### Checking for null values "
   ]
  },
  {
   "cell_type": "code",
   "execution_count": 8,
   "metadata": {
    "execution": {
     "iopub.execute_input": "2020-10-21T10:24:36.892505Z",
     "iopub.status.busy": "2020-10-21T10:24:36.891628Z",
     "iopub.status.idle": "2020-10-21T10:24:36.922696Z",
     "shell.execute_reply": "2020-10-21T10:24:36.923425Z"
    },
    "papermill": {
     "duration": 0.06287,
     "end_time": "2020-10-21T10:24:36.923586",
     "exception": false,
     "start_time": "2020-10-21T10:24:36.860716",
     "status": "completed"
    },
    "tags": []
   },
   "outputs": [
    {
     "name": "stdout",
     "output_type": "stream",
     "text": [
      "\n",
      "Salinty\n",
      " False    817509\n",
      "True      47354\n",
      "Name: Salnty, dtype: int64\n",
      "\n",
      "Temprature\n",
      " False    853900\n",
      "True      10963\n",
      "Name: T_degC, dtype: int64\n"
     ]
    }
   ],
   "source": [
    "print(\"\\nSalinty\\n\",df.Salnty.isnull().value_counts())\n",
    "print(\"\\nTemprature\\n\",df.T_degC.isnull().value_counts())"
   ]
  },
  {
   "cell_type": "markdown",
   "metadata": {
    "papermill": {
     "duration": 0.025568,
     "end_time": "2020-10-21T10:24:36.974747",
     "exception": false,
     "start_time": "2020-10-21T10:24:36.949179",
     "status": "completed"
    },
    "tags": []
   },
   "source": [
    "### Remove null items and reset the indexes"
   ]
  },
  {
   "cell_type": "code",
   "execution_count": 9,
   "metadata": {
    "execution": {
     "iopub.execute_input": "2020-10-21T10:24:37.035412Z",
     "iopub.status.busy": "2020-10-21T10:24:37.034008Z",
     "iopub.status.idle": "2020-10-21T10:24:37.084645Z",
     "shell.execute_reply": "2020-10-21T10:24:37.083818Z"
    },
    "papermill": {
     "duration": 0.083813,
     "end_time": "2020-10-21T10:24:37.084822",
     "exception": false,
     "start_time": "2020-10-21T10:24:37.001009",
     "status": "completed"
    },
    "tags": []
   },
   "outputs": [],
   "source": [
    "df=df.dropna(axis=0)\n",
    "df.reset_index(drop=True,inplace=True)"
   ]
  },
  {
   "cell_type": "code",
   "execution_count": 10,
   "metadata": {
    "execution": {
     "iopub.execute_input": "2020-10-21T10:24:37.142320Z",
     "iopub.status.busy": "2020-10-21T10:24:37.141426Z",
     "iopub.status.idle": "2020-10-21T10:24:37.144515Z",
     "shell.execute_reply": "2020-10-21T10:24:37.145084Z"
    },
    "papermill": {
     "duration": 0.034804,
     "end_time": "2020-10-21T10:24:37.145253",
     "exception": false,
     "start_time": "2020-10-21T10:24:37.110449",
     "status": "completed"
    },
    "tags": []
   },
   "outputs": [],
   "source": [
    "df=df[0:750]#slicing array for as it has a lot of rows "
   ]
  },
  {
   "cell_type": "code",
   "execution_count": 11,
   "metadata": {
    "execution": {
     "iopub.execute_input": "2020-10-21T10:24:37.202156Z",
     "iopub.status.busy": "2020-10-21T10:24:37.200868Z",
     "iopub.status.idle": "2020-10-21T10:24:37.205976Z",
     "shell.execute_reply": "2020-10-21T10:24:37.205221Z"
    },
    "papermill": {
     "duration": 0.035482,
     "end_time": "2020-10-21T10:24:37.206101",
     "exception": false,
     "start_time": "2020-10-21T10:24:37.170619",
     "status": "completed"
    },
    "tags": []
   },
   "outputs": [
    {
     "data": {
      "text/plain": [
       "(750, 2)"
      ]
     },
     "execution_count": 11,
     "metadata": {},
     "output_type": "execute_result"
    }
   ],
   "source": [
    "df.shape"
   ]
  },
  {
   "cell_type": "code",
   "execution_count": 12,
   "metadata": {
    "execution": {
     "iopub.execute_input": "2020-10-21T10:24:37.264986Z",
     "iopub.status.busy": "2020-10-21T10:24:37.263879Z",
     "iopub.status.idle": "2020-10-21T10:24:37.575938Z",
     "shell.execute_reply": "2020-10-21T10:24:37.575253Z"
    },
    "papermill": {
     "duration": 0.344238,
     "end_time": "2020-10-21T10:24:37.576083",
     "exception": false,
     "start_time": "2020-10-21T10:24:37.231845",
     "status": "completed"
    },
    "tags": []
   },
   "outputs": [
    {
     "data": {
      "text/plain": [
       "Text(0, 0.5, 'Salinity')"
      ]
     },
     "execution_count": 12,
     "metadata": {},
     "output_type": "execute_result"
    },
    {
     "data": {
      "image/png": "[encoded data removed]",
      "text/plain": [
       "<Figure size 864x864 with 1 Axes>"
      ]
     },
     "metadata": {
      "needs_background": "light"
     },
     "output_type": "display_data"
    }
   ],
   "source": [
    "\n",
    "plt.figure(figsize=(12,12))\n",
    "plt.scatter(df.Salnty,df.T_degC, color='blue')\n",
    "plt.xlabel(\"Tempurature\",fontsize=25)\n",
    "plt.ylabel(\"Salinity\",fontsize=25)"
   ]
  },
  {
   "cell_type": "markdown",
   "metadata": {
    "papermill": {
     "duration": 0.027418,
     "end_time": "2020-10-21T10:24:37.631846",
     "exception": false,
     "start_time": "2020-10-21T10:24:37.604428",
     "status": "completed"
    },
    "tags": []
   },
   "source": [
    "\n",
    "## reshape into 1-d array"
   ]
  },
  {
   "cell_type": "code",
   "execution_count": 13,
   "metadata": {
    "execution": {
     "iopub.execute_input": "2020-10-21T10:24:37.694423Z",
     "iopub.status.busy": "2020-10-21T10:24:37.693617Z",
     "iopub.status.idle": "2020-10-21T10:24:37.696526Z",
     "shell.execute_reply": "2020-10-21T10:24:37.697167Z"
    },
    "papermill": {
     "duration": 0.037494,
     "end_time": "2020-10-21T10:24:37.697373",
     "exception": false,
     "start_time": "2020-10-21T10:24:37.659879",
     "status": "completed"
    },
    "tags": []
   },
   "outputs": [],
   "source": [
    "x=np.array(df['Salnty']).reshape(750,1)\n",
    "y=np.array(df['T_degC']).reshape(750,1)"
   ]
  },
  {
   "cell_type": "markdown",
   "metadata": {
    "papermill": {
     "duration": 0.029485,
     "end_time": "2020-10-21T10:24:37.756555",
     "exception": false,
     "start_time": "2020-10-21T10:24:37.727070",
     "status": "completed"
    },
    "tags": []
   },
   "source": [
    "# Train Test Split\n"
   ]
  },
  {
   "cell_type": "code",
   "execution_count": 14,
   "metadata": {
    "execution": {
     "iopub.execute_input": "2020-10-21T10:24:37.821774Z",
     "iopub.status.busy": "2020-10-21T10:24:37.820914Z",
     "iopub.status.idle": "2020-10-21T10:24:37.951970Z",
     "shell.execute_reply": "2020-10-21T10:24:37.951266Z"
    },
    "papermill": {
     "duration": 0.164787,
     "end_time": "2020-10-21T10:24:37.952104",
     "exception": false,
     "start_time": "2020-10-21T10:24:37.787317",
     "status": "completed"
    },
    "tags": []
   },
   "outputs": [],
   "source": [
    "from sklearn.model_selection import train_test_split\n",
    "X_train, X_test, y_train, y_test = train_test_split(x, y, test_size = 0.2, random_state = 100)\n"
   ]
  },
  {
   "cell_type": "markdown",
   "metadata": {
    "papermill": {
     "duration": 0.029377,
     "end_time": "2020-10-21T10:24:38.009911",
     "exception": false,
     "start_time": "2020-10-21T10:24:37.980534",
     "status": "completed"
    },
    "tags": []
   },
   "source": [
    "# train model\n",
    "Train/Test Split involves splitting the dataset into training and testing sets respectively, which are mutually exclusive. After which, you train with the training set and test with the testing set. This will provide a more accurate evaluation on out-of-sample accuracy because the testing dataset is not part of the dataset that have been used to train the data."
   ]
  },
  {
   "cell_type": "code",
   "execution_count": 15,
   "metadata": {
    "execution": {
     "iopub.execute_input": "2020-10-21T10:24:38.076871Z",
     "iopub.status.busy": "2020-10-21T10:24:38.076042Z",
     "iopub.status.idle": "2020-10-21T10:24:38.202837Z",
     "shell.execute_reply": "2020-10-21T10:24:38.203464Z"
    },
    "papermill": {
     "duration": 0.163403,
     "end_time": "2020-10-21T10:24:38.203621",
     "exception": false,
     "start_time": "2020-10-21T10:24:38.040218",
     "status": "completed"
    },
    "tags": []
   },
   "outputs": [
    {
     "name": "stdout",
     "output_type": "stream",
     "text": [
      "Coefficients:  [[-5.20736011]]\n",
      "Intercept:  [183.42195043]\n"
     ]
    }
   ],
   "source": [
    "from sklearn.linear_model import LinearRegression\n",
    "regr=LinearRegression()\n",
    "regr.fit(X_train,y_train)\n",
    "print ('Coefficients: ', regr.coef_)\n",
    "print ('Intercept: ',regr.intercept_)"
   ]
  },
  {
   "cell_type": "markdown",
   "metadata": {
    "papermill": {
     "duration": 0.028689,
     "end_time": "2020-10-21T10:24:38.262724",
     "exception": false,
     "start_time": "2020-10-21T10:24:38.234035",
     "status": "completed"
    },
    "tags": []
   },
   "source": [
    "## accuracy on test data\n"
   ]
  },
  {
   "cell_type": "code",
   "execution_count": 16,
   "metadata": {
    "execution": {
     "iopub.execute_input": "2020-10-21T10:24:38.328319Z",
     "iopub.status.busy": "2020-10-21T10:24:38.327412Z",
     "iopub.status.idle": "2020-10-21T10:24:38.332154Z",
     "shell.execute_reply": "2020-10-21T10:24:38.331061Z"
    },
    "papermill": {
     "duration": 0.040694,
     "end_time": "2020-10-21T10:24:38.332328",
     "exception": false,
     "start_time": "2020-10-21T10:24:38.291634",
     "status": "completed"
    },
    "tags": []
   },
   "outputs": [
    {
     "name": "stdout",
     "output_type": "stream",
     "text": [
      "0.8331078813947981\n"
     ]
    }
   ],
   "source": [
    "accuracy = regr.score(X_test, y_test)\n",
    "print(accuracy)"
   ]
  },
  {
   "cell_type": "markdown",
   "metadata": {
    "papermill": {
     "duration": 0.029094,
     "end_time": "2020-10-21T10:24:38.391948",
     "exception": false,
     "start_time": "2020-10-21T10:24:38.362854",
     "status": "completed"
    },
    "tags": []
   },
   "source": [
    "# Regression Plot"
   ]
  },
  {
   "cell_type": "code",
   "execution_count": 17,
   "metadata": {
    "execution": {
     "iopub.execute_input": "2020-10-21T10:24:38.473330Z",
     "iopub.status.busy": "2020-10-21T10:24:38.470012Z",
     "iopub.status.idle": "2020-10-21T10:24:38.739351Z",
     "shell.execute_reply": "2020-10-21T10:24:38.740012Z"
    },
    "papermill": {
     "duration": 0.318047,
     "end_time": "2020-10-21T10:24:38.740185",
     "exception": false,
     "start_time": "2020-10-21T10:24:38.422138",
     "status": "completed"
    },
    "tags": []
   },
   "outputs": [
    {
     "data": {
      "text/plain": [
       "Text(0.5, 1.0, 'Regression plot')"
      ]
     },
     "execution_count": 17,
     "metadata": {},
     "output_type": "execute_result"
    },
    {
     "data": {
      "image/png": "[encoded data removed]",
      "text/plain": [
       "<Figure size 864x864 with 1 Axes>"
      ]
     },
     "metadata": {
      "needs_background": "light"
     },
     "output_type": "display_data"
    }
   ],
   "source": [
    "plt.figure(figsize=(12,12))\n",
    "plt.scatter(x, y,  color='blue')\n",
    "plt.plot(X_train, regr.predict(X_train), '-r',linewidth=\"4\")\n",
    "plt.xlabel(\"Tempurature\",fontsize=25)\n",
    "plt.ylabel(\"Salinity\",fontsize=25)\n",
    "plt.title(\"Regression plot\",fontsize=25)\n"
   ]
  },
  {
   "cell_type": "markdown",
   "metadata": {
    "papermill": {
     "duration": 0.03501,
     "end_time": "2020-10-21T10:24:38.810890",
     "exception": false,
     "start_time": "2020-10-21T10:24:38.775880",
     "status": "completed"
    },
    "tags": []
   },
   "source": [
    "# Model  Evaluation \n"
   ]
  },
  {
   "cell_type": "code",
   "execution_count": 18,
   "metadata": {
    "execution": {
     "iopub.execute_input": "2020-10-21T10:24:38.889787Z",
     "iopub.status.busy": "2020-10-21T10:24:38.888643Z",
     "iopub.status.idle": "2020-10-21T10:24:38.892491Z",
     "shell.execute_reply": "2020-10-21T10:24:38.893492Z"
    },
    "papermill": {
     "duration": 0.04738,
     "end_time": "2020-10-21T10:24:38.893743",
     "exception": false,
     "start_time": "2020-10-21T10:24:38.846363",
     "status": "completed"
    },
    "tags": []
   },
   "outputs": [
    {
     "name": "stdout",
     "output_type": "stream",
     "text": [
      "Mean absolute error: 1.03\n",
      "Residual sum of squares (MSE): 1.63\n",
      "R2-score: 0.83\n"
     ]
    }
   ],
   "source": [
    "from sklearn.metrics import r2_score\n",
    "ypred = regr.predict(X_test)\n",
    "print(\"Mean absolute error: %.2f\" % np.mean(np.absolute(ypred - y_test)))\n",
    "print(\"Residual sum of squares (MSE): %.2f\" % np.mean((ypred - y_test) ** 2))\n",
    "print(\"R2-score: %.2f\" % r2_score(y_test , ypred) )"
   ]
  },
  {
   "cell_type": "code",
   "execution_count": null,
   "metadata": {
    "papermill": {
     "duration": 0.033243,
     "end_time": "2020-10-21T10:24:38.960981",
     "exception": false,
     "start_time": "2020-10-21T10:24:38.927738",
     "status": "completed"
    },
    "tags": []
   },
   "outputs": [],
   "source": []
  }
 ],
 "metadata": {
  "kernelspec": {
   "display_name": "Python 3",
   "language": "python",
   "name": "python3"
  },
  "language_info": {
   "codemirror_mode": {
    "name": "ipython",
    "version": 3
   },
   "file_extension": ".py",
   "mimetype": "text/x-python",
   "name": "python",
   "nbconvert_exporter": "python",
   "pygments_lexer": "ipython3",
   "version": "3.7.6"
  },
  "papermill": {
   "duration": 19.830937,
   "end_time": "2020-10-21T10:24:39.110436",
   "environment_variables": {},
   "exception": null,
   "input_path": "__notebook__.ipynb",
   "output_path": "__notebook__.ipynb",
   "parameters": {},
   "start_time": "2020-10-21T10:24:19.279499",
   "version": "2.1.0"
  }
 },
 "nbformat": 4,
 "nbformat_minor": 4
}
